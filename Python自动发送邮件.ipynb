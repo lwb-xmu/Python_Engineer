{
 "cells": [
  {
   "cell_type": "markdown",
   "metadata": {},
   "source": [
    "## 1、先导入相关的库和方法"
   ]
  },
  {
   "cell_type": "code",
   "execution_count": 1,
   "metadata": {},
   "outputs": [],
   "source": [
    "import smtplib\n",
    "import email\n",
    "# 负责构造文本\n",
    "from email.mime.text import MIMEText\n",
    "# 负责构造图片\n",
    "from email.mime.image import MIMEImage\n",
    "# 负责将多个对象集合起来\n",
    "from email.mime.multipart import MIMEMultipart\n",
    "from email.header import Header"
   ]
  },
  {
   "cell_type": "markdown",
   "metadata": {},
   "source": [
    "## 2、设置邮箱域名、发件人邮箱、邮箱授权码、收件人邮箱"
   ]
  },
  {
   "cell_type": "code",
   "execution_count": 2,
   "metadata": {},
   "outputs": [],
   "source": [
    "# SMTP服务器,这里使用163邮箱\n",
    "mail_host = \"smtp.qq.com\"\n",
    "# 发件人邮箱\n",
    "mail_sender = \"lwb_xmu2021@foxmail.com\"\n",
    "# 邮箱授权码,注意这里不是邮箱密码,如何获取邮箱授权码,请看本文最后教程\n",
    "mail_license = \"uxzezvmzgjusbehi\"\n",
    "# 收件人邮箱，可以为多个收件人\n",
    "mail_receivers = [\"lwb876895188@163.com\"]"
   ]
  },
  {
   "cell_type": "markdown",
   "metadata": {},
   "source": [
    "## 3、构建MIMEMultipart对象代表邮件本身，可以往里面添加文本、图片、附件等"
   ]
  },
  {
   "cell_type": "code",
   "execution_count": 3,
   "metadata": {},
   "outputs": [],
   "source": [
    "mm = MIMEMultipart('related')"
   ]
  },
  {
   "cell_type": "markdown",
   "metadata": {},
   "source": [
    "## 4、设置邮件头部内容"
   ]
  },
  {
   "cell_type": "code",
   "execution_count": 4,
   "metadata": {},
   "outputs": [],
   "source": [
    "# 邮件主题\n",
    "subject_content = \"\"\"周末快乐\"\"\"\n",
    "# 设置发送者,注意严格遵守格式,里面邮箱为发件人邮箱\n",
    "mm[\"From\"] = \"实时盯盘软件<lwb_xmu2021@foxmail.com>\"\n",
    "# 设置接受者,注意严格遵守格式,里面邮箱为接受者邮箱\n",
    "mm[\"To\"] = \"新韭小陆<lwb876895188@163.com>\"\n",
    "# 设置邮件主题\n",
    "mm[\"Subject\"] = Header(subject_content,'utf-8')"
   ]
  },
  {
   "cell_type": "markdown",
   "metadata": {},
   "source": [
    "## 5、添加正文文本"
   ]
  },
  {
   "cell_type": "code",
   "execution_count": 5,
   "metadata": {},
   "outputs": [],
   "source": [
    "# 邮件正文内容\n",
    "body_content = \"\"\"周日也要快乐哦！\"\"\"\n",
    "# 构造文本,参数1：正文内容，参数2：文本格式，参数3：编码方式\n",
    "message_text = MIMEText(body_content,\"plain\",\"utf-8\")\n",
    "# 向MIMEMultipart对象中添加文本对象\n",
    "mm.attach(message_text)"
   ]
  },
  {
   "cell_type": "markdown",
   "metadata": {},
   "source": [
    "## 6、添加图片"
   ]
  },
  {
   "cell_type": "code",
   "execution_count": null,
   "metadata": {},
   "outputs": [],
   "source": [
    "# 二进制读取图片\n",
    "image_data = open('a.jpg','rb')\n",
    "# 设置读取获取的二进制数据\n",
    "message_image = MIMEImage(image_data.read())\n",
    "# 关闭刚才打开的文件\n",
    "image_data.close()\n",
    "# 添加图片文件到邮件信息当中去\n",
    "mm.attach(message_image)"
   ]
  },
  {
   "cell_type": "markdown",
   "metadata": {},
   "source": [
    "## 7、添加附件(excel表格)"
   ]
  },
  {
   "cell_type": "code",
   "execution_count": null,
   "metadata": {},
   "outputs": [],
   "source": [
    "# 构造附件\n",
    "atta = MIMEText(open('sample.xlsx', 'rb').read(), 'base64', 'utf-8')\n",
    "# 设置附件信息\n",
    "atta[\"Content-Disposition\"] = 'attachment; filename=\"sample.xlsx\"'\n",
    "# 添加附件到邮件信息当中去\n",
    "mm.attach(atta)"
   ]
  },
  {
   "cell_type": "markdown",
   "metadata": {},
   "source": [
    "## 8、发送邮件"
   ]
  },
  {
   "cell_type": "code",
   "execution_count": 6,
   "metadata": {},
   "outputs": [
    {
     "data": {
      "text/plain": [
       "(220, b'newxmesmtplogicsvrsza8.qq.com XMail Esmtp QQ Mail Server.')"
      ]
     },
     "execution_count": 6,
     "metadata": {},
     "output_type": "execute_result"
    },
    {
     "name": "stderr",
     "output_type": "stream",
     "text": [
      "send: 'ehlo [192.168.3.10]\\r\\n'\n",
      "reply: b'250-newxmesmtplogicsvrsza8.qq.com\\r\\n'\n",
      "reply: b'250-PIPELINING\\r\\n'\n",
      "reply: b'250-SIZE 73400320\\r\\n'\n",
      "reply: b'250-STARTTLS\\r\\n'\n",
      "reply: b'250-AUTH LOGIN PLAIN XOAUTH XOAUTH2\\r\\n'\n",
      "reply: b'250-AUTH=LOGIN\\r\\n'\n",
      "reply: b'250-MAILCOMPRESS\\r\\n'\n",
      "reply: b'250 8BITMIME\\r\\n'\n",
      "reply: retcode (250); Msg: b'newxmesmtplogicsvrsza8.qq.com\\nPIPELINING\\nSIZE 73400320\\nSTARTTLS\\nAUTH LOGIN PLAIN XOAUTH XOAUTH2\\nAUTH=LOGIN\\nMAILCOMPRESS\\n8BITMIME'\n",
      "send: 'AUTH PLAIN AGx3Yl94bXUyMDIxQGZveG1haWwuY29tAHV4emV6dm16Z2p1c2JlaGk=\\r\\n'\n",
      "reply: b'235 Authentication successful\\r\\n'\n",
      "reply: retcode (235); Msg: b'Authentication successful'\n"
     ]
    },
    {
     "data": {
      "text/plain": [
       "(235, b'Authentication successful')"
      ]
     },
     "execution_count": 6,
     "metadata": {},
     "output_type": "execute_result"
    },
    {
     "name": "stderr",
     "output_type": "stream",
     "text": [
      "send: 'mail FROM:<lwb_xmu2021@foxmail.com> size=505\\r\\n'\n",
      "reply: b'250 OK.\\r\\n'\n",
      "reply: retcode (250); Msg: b'OK.'\n",
      "send: 'rcpt TO:<lwb876895188@163.com>\\r\\n'\n",
      "reply: b'250 OK\\r\\n'\n",
      "reply: retcode (250); Msg: b'OK'\n",
      "send: 'data\\r\\n'\n",
      "reply: b'354 End data with <CR><LF>.<CR><LF>.\\r\\n'\n",
      "reply: retcode (354); Msg: b'End data with <CR><LF>.<CR><LF>.'\n",
      "data: (354, b'End data with <CR><LF>.<CR><LF>.')\n",
      "send: b'Content-Type: multipart/related; boundary=\"===============6683779937278339135==\"\\r\\nMIME-Version: 1.0\\r\\nFrom: =?utf-8?b?5a6e5pe255uv55uY6L2v5Lu2PGx3Yl94bXUyMDIxQGZveG1haWwuY29tPg==?=\\r\\nTo: =?utf-8?b?5paw6Z+t5bCP6ZmGPGx3Yjg3Njg5NTE4OEAxNjMuY29tPg==?=\\r\\nSubject: =?utf-8?b?5ZGo5pyr5b+r5LmQ?=\\r\\n\\r\\n--===============6683779937278339135==\\r\\nContent-Type: text/plain; charset=\"utf-8\"\\r\\nMIME-Version: 1.0\\r\\nContent-Transfer-Encoding: base64\\r\\n\\r\\n5ZGo5pel5Lmf6KaB5b+r5LmQ5ZOm77yB\\r\\n\\r\\n--===============6683779937278339135==--\\r\\n.\\r\\n'\n",
      "reply: b'250 OK: queued as.\\r\\n'\n",
      "reply: retcode (250); Msg: b'OK: queued as.'\n",
      "data: (250, b'OK: queued as.')\n"
     ]
    },
    {
     "data": {
      "text/plain": [
       "{}"
      ]
     },
     "execution_count": 6,
     "metadata": {},
     "output_type": "execute_result"
    },
    {
     "name": "stdout",
     "output_type": "stream",
     "text": [
      "邮件发送成功\n"
     ]
    },
    {
     "name": "stderr",
     "output_type": "stream",
     "text": [
      "send: 'quit\\r\\n'\n",
      "reply: b'221 Bye.\\r\\n'\n",
      "reply: retcode (221); Msg: b'Bye.'\n"
     ]
    },
    {
     "data": {
      "text/plain": [
       "(221, b'Bye.')"
      ]
     },
     "execution_count": 6,
     "metadata": {},
     "output_type": "execute_result"
    }
   ],
   "source": [
    "# 创建SMTP对象\n",
    "stp = smtplib.SMTP()\n",
    "# 设置发件人邮箱的域名和端口，端口地址为25\n",
    "stp.connect(mail_host, 25)  \n",
    "# set_debuglevel(1)可以打印出和SMTP服务器交互的所有信息\n",
    "stp.set_debuglevel(1)\n",
    "# 登录邮箱，传递参数1：邮箱地址，参数2：邮箱授权码\n",
    "stp.login(mail_sender,mail_license)\n",
    "# 发送邮件，传递参数1：发件人邮箱地址，参数2：收件人邮箱地址，参数3：把邮件内容格式改为str\n",
    "stp.sendmail(mail_sender, mail_receivers, mm.as_string())\n",
    "print(\"邮件发送成功\")\n",
    "# 关闭SMTP对象\n",
    "stp.quit()"
   ]
  },
  {
   "cell_type": "code",
   "execution_count": null,
   "metadata": {},
   "outputs": [],
   "source": []
  }
 ],
 "metadata": {
  "kernelspec": {
   "display_name": "Python 3",
   "language": "python",
   "name": "python3"
  },
  "language_info": {
   "codemirror_mode": {
    "name": "ipython",
    "version": 3
   },
   "file_extension": ".py",
   "mimetype": "text/x-python",
   "name": "python",
   "nbconvert_exporter": "python",
   "pygments_lexer": "ipython3",
   "version": "3.7.3"
  }
 },
 "nbformat": 4,
 "nbformat_minor": 2
}
