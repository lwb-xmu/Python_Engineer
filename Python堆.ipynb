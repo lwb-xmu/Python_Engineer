{
 "cells": [
  {
   "cell_type": "markdown",
   "metadata": {},
   "source": [
    "# Python 堆"
   ]
  },
  {
   "cell_type": "markdown",
   "metadata": {},
   "source": [
    "今天做LeetCode 347.前 K 个高频元素，整理一下Python中堆的内容。\n",
    "\n",
    "Python通过标准库模块的heapq实现最大堆和最小堆。\n",
    "\n",
    "堆是二叉树，最大堆中父节点大于或等于两个子节点，最小堆父节点小于或等于两个子节点。"
   ]
  },
  {
   "cell_type": "markdown",
   "metadata": {},
   "source": [
    "## 创建堆（最小堆）\n",
    "heapq有两种方式创建堆， 一种是使用一个空列表，然后使用heapq.heappush()函数把值加入堆中，另外一种就是使用heap.heapify(list)转换列表成为堆结构"
   ]
  },
  {
   "cell_type": "markdown",
   "metadata": {},
   "source": [
    "### 第一种方式"
   ]
  },
  {
   "cell_type": "code",
   "execution_count": 1,
   "metadata": {},
   "outputs": [
    {
     "data": {
      "text/plain": [
       "'\\n函数定义：\\nheapq.heappush(heap, item)\\n    - Push the value item onto the heap, maintaining the heap invariant.\\nheapq.heappop(heap)\\n    - Pop and return the smallest item from the heap, maintaining the heap invariant.\\n    If the heap is empty, IndexError is raised. To access the smallest item without popping it, use heap[0].\\n'"
      ]
     },
     "execution_count": 1,
     "metadata": {},
     "output_type": "execute_result"
    },
    {
     "name": "stdout",
     "output_type": "stream",
     "text": [
      "1\n",
      "[1, 2, 3, 5, 23, 54, 132]\n"
     ]
    }
   ],
   "source": [
    "import heapq\n",
    "\n",
    "# 第一种\n",
    "\"\"\"\n",
    "函数定义：\n",
    "heapq.heappush(heap, item)\n",
    "    - Push the value item onto the heap, maintaining the heap invariant.\n",
    "heapq.heappop(heap)\n",
    "    - Pop and return the smallest item from the heap, maintaining the heap invariant.\n",
    "    If the heap is empty, IndexError is raised. To access the smallest item without popping it, use heap[0].\n",
    "\"\"\"\n",
    "nums = [2, 3, 5, 1, 54, 23, 132]\n",
    "heap = []\n",
    "for num in nums:\n",
    "    heapq.heappush(heap, num)  # 加入堆\n",
    "\n",
    "print(heap[0])  # 如果只是想获取最小值而不是弹出，使用heap[0]\n",
    "print([heapq.heappop(heap) for _ in range(len(nums))])  # 堆排序结果\n",
    "# out: [1, 2, 3, 5, 23, 54, 132]"
   ]
  },
  {
   "cell_type": "markdown",
   "metadata": {},
   "source": [
    "### 第二种"
   ]
  },
  {
   "cell_type": "code",
   "execution_count": 2,
   "metadata": {},
   "outputs": [
    {
     "name": "stdout",
     "output_type": "stream",
     "text": [
      "[1, 2, 3, 5, 23, 54, 132]\n"
     ]
    }
   ],
   "source": [
    "# 第二种\n",
    "nums = [2, 3, 5, 1, 54, 23, 132]\n",
    "heapq.heapify(nums)\n",
    "print([heapq.heappop(nums) for _ in range(len(nums))])  # 堆排序结果\n",
    "# out: [1, 2, 3, 5, 23, 54, 132]"
   ]
  },
  {
   "cell_type": "markdown",
   "metadata": {},
   "source": [
    "## 实现堆排序"
   ]
  },
  {
   "cell_type": "code",
   "execution_count": 3,
   "metadata": {},
   "outputs": [
    {
     "data": {
      "text/plain": [
       "[0, 1, 2, 3, 4, 5, 6, 7, 8, 9]"
      ]
     },
     "execution_count": 3,
     "metadata": {},
     "output_type": "execute_result"
    }
   ],
   "source": [
    "def heapsort(iterable):\n",
    "    h = []\n",
    "    for value in iterable:\n",
    "        heapq.heappush(h, value)\n",
    "    return [heapq.heappop(h) for i in range(len(h))]\n",
    "\n",
    "heapsort([1, 3, 5, 7, 9, 2, 4, 6, 8, 0])\n",
    "#out: [0, 1, 2, 3, 4, 5, 6, 7, 8, 9]"
   ]
  },
  {
   "cell_type": "markdown",
   "metadata": {},
   "source": [
    "堆的值可以是元组类型，可以实现对带权值的元素进行排序。\n",
    "\n",
    "**这里注意一点，排序时候按照的是元组的第一个元素！！！**"
   ]
  },
  {
   "cell_type": "code",
   "execution_count": 4,
   "metadata": {},
   "outputs": [
    {
     "data": {
      "text/plain": [
       "(1, 'write spec')"
      ]
     },
     "execution_count": 4,
     "metadata": {},
     "output_type": "execute_result"
    }
   ],
   "source": [
    "h = []\n",
    "heapq.heappush(h, (5, 'write code'))\n",
    "heapq.heappush(h, (7, 'release product'))\n",
    "heapq.heappush(h, (1, 'write spec'))\n",
    "heapq.heappush(h, (3, 'create tests'))\n",
    "heapq.heappop(h)\n",
    "# out:(1, 'write spec')"
   ]
  },
  {
   "cell_type": "markdown",
   "metadata": {},
   "source": [
    "数字放前面，按照数字排序，数字1最小"
   ]
  },
  {
   "cell_type": "code",
   "execution_count": 5,
   "metadata": {},
   "outputs": [
    {
     "data": {
      "text/plain": [
       "('create tests', 3)"
      ]
     },
     "execution_count": 5,
     "metadata": {},
     "output_type": "execute_result"
    }
   ],
   "source": [
    "h = []\n",
    "heapq.heappush(h, ('write code', 5))\n",
    "heapq.heappush(h, ('release product', 7))\n",
    "heapq.heappush(h, ('write spec', 1))\n",
    "heapq.heappush(h, ('create tests', 3))\n",
    "heapq.heappop(h)\n",
    "# out: (1, 'write spec')"
   ]
  },
  {
   "cell_type": "markdown",
   "metadata": {},
   "source": [
    "字母放前面，按照字母排序，c开头的最小"
   ]
  },
  {
   "cell_type": "markdown",
   "metadata": {},
   "source": [
    "## 最大堆"
   ]
  },
  {
   "cell_type": "markdown",
   "metadata": {},
   "source": [
    "可以发现上面实现的都是最小堆，那么如何实现最大堆呢？"
   ]
  },
  {
   "cell_type": "code",
   "execution_count": 6,
   "metadata": {},
   "outputs": [
    {
     "name": "stdout",
     "output_type": "stream",
     "text": [
      "[9, 7, 8, 5, 5, 1, 2, 3]\n"
     ]
    }
   ],
   "source": [
    "import heapq\n",
    "\n",
    "data = [1, 5, 2, 3, 7, 8, 9, 5]\n",
    "heapq._heapify_max(data)\n",
    "print(data)\n",
    "# out: [9, 7, 8, 5, 5, 1, 2, 3]"
   ]
  },
  {
   "cell_type": "code",
   "execution_count": 7,
   "metadata": {},
   "outputs": [
    {
     "name": "stdout",
     "output_type": "stream",
     "text": [
      "9\n",
      "[8, 7, 3, 5, 5, 1, 2]\n"
     ]
    },
    {
     "data": {
      "text/plain": [
       "8"
      ]
     },
     "execution_count": 7,
     "metadata": {},
     "output_type": "execute_result"
    },
    {
     "name": "stdout",
     "output_type": "stream",
     "text": [
      "[12, 7, 3, 5, 5, 1, 2]\n"
     ]
    }
   ],
   "source": [
    "# pop根节点，也就是最大值\n",
    "print(heapq._heappop_max(data))\n",
    "# 9\n",
    "print(data)\n",
    "# out:[8, 7, 3, 5, 5, 1, 2]\n",
    "# 替换根节点，也就是最大值\n",
    "heapq._heapreplace_max(data, 12)\n",
    "print(data)\n",
    "# [12, 7, 3, 5, 5, 1, 2]"
   ]
  },
  {
   "cell_type": "code",
   "execution_count": 8,
   "metadata": {},
   "outputs": [
    {
     "name": "stdout",
     "output_type": "stream",
     "text": [
      "[12, 7, 3, 5, 5, 1, 2, 15]\n"
     ]
    }
   ],
   "source": [
    "heapq.heappush(data, 15)\n",
    "print(data)\n",
    "# out:[12, 7, 3, 5, 5, 1, 2, 15]"
   ]
  },
  {
   "cell_type": "markdown",
   "metadata": {},
   "source": [
    "可以发现，heapq不支持maxpush，往里面push一个15，并没有得到最大堆。\n",
    "\n",
    "可以用给数据（基本数据类型）填符号的方法来解决，数据流里可以是正数和负数的组合，填符号是为了改变单调性。"
   ]
  },
  {
   "cell_type": "code",
   "execution_count": 9,
   "metadata": {},
   "outputs": [
    {
     "name": "stdout",
     "output_type": "stream",
     "text": [
      "4\n",
      "3\n",
      "2\n",
      "-1\n",
      "-3\n",
      "-10\n",
      "-90\n"
     ]
    }
   ],
   "source": [
    "import heapq\n",
    "a = [2,3,4,-10,-1,-3,-90]\n",
    "h = []\n",
    "for i in a:\n",
    "    heapq.heappush(h,-i)\n",
    "for i in a:\n",
    "    print(-heapq.heappop(h))\n",
    "# 4\n",
    "# 3\n",
    "# 2\n",
    "# -1\n",
    "# -3\n",
    "# -10\n",
    "# -90"
   ]
  }
 ],
 "metadata": {
  "kernelspec": {
   "display_name": "Python 3",
   "language": "python",
   "name": "python3"
  },
  "language_info": {
   "codemirror_mode": {
    "name": "ipython",
    "version": 3
   },
   "file_extension": ".py",
   "mimetype": "text/x-python",
   "name": "python",
   "nbconvert_exporter": "python",
   "pygments_lexer": "ipython3",
   "version": "3.7.3"
  }
 },
 "nbformat": 4,
 "nbformat_minor": 2
}
