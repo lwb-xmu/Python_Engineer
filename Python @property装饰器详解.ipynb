{
 "cells": [
  {
   "cell_type": "markdown",
   "metadata": {},
   "source": [
    "参考资料 http://c.biancheng.net/view/4561.html"
   ]
  },
  {
   "cell_type": "markdown",
   "metadata": {},
   "source": [
    "廖雪峰Python教程的定义：在代码运行期间动态增加函数或方法功能的方式，称之为“装饰器”（Decorator）。"
   ]
  },
  {
   "cell_type": "markdown",
   "metadata": {},
   "source": [
    "### @property 装饰器"
   ]
  },
  {
   "cell_type": "markdown",
   "metadata": {},
   "source": [
    "既要保护类的封装特性，又要让开发者可以使用“对象.属性”的方式操作类属性，Python 提供了 @property 装饰器。\n",
    "\n",
    "通过 @property 装饰器，可以直接通过方法名来访问方法，不需要在方法名后添加一对“（）”小括号。\n",
    "\n",
    "@property 的语法格式如下："
   ]
  },
  {
   "cell_type": "code",
   "execution_count": null,
   "metadata": {},
   "outputs": [],
   "source": [
    "@property\n",
    "def 方法名(self)\n",
    "    代码块"
   ]
  },
  {
   "cell_type": "markdown",
   "metadata": {},
   "source": [
    "例如，定义一个矩形类，并定义用 @property 修饰的方法操作类中的 area 私有属性，代码如下："
   ]
  },
  {
   "cell_type": "code",
   "execution_count": 1,
   "metadata": {},
   "outputs": [
    {
     "name": "stdout",
     "output_type": "stream",
     "text": [
      "矩形的面积是： 30\n"
     ]
    }
   ],
   "source": [
    "class Rect:\n",
    "    def __init__(self, area):\n",
    "        self.__area = area\n",
    "    @property\n",
    "    def area(self):\n",
    "        return self.__area\n",
    "    \n",
    "rect = Rect(30)\n",
    "#直接通过方法名来访问 area 方法\n",
    "print(\"矩形的面积是：\", rect.area)"
   ]
  },
  {
   "cell_type": "markdown",
   "metadata": {},
   "source": [
    "上面程序中，使用 ＠property 修饰了 area() 方法，这样就使得该方法变成了 area 属性的 getter 方法。\n",
    "\n",
    "需要注意的是，如果类中只包含该方法，那么 area 属性将是一个只读属性。也就是说，在使用 Rect 类时，无法对 area 属性重新赋值，即运行如下代码会报错："
   ]
  },
  {
   "cell_type": "code",
   "execution_count": 2,
   "metadata": {},
   "outputs": [
    {
     "ename": "AttributeError",
     "evalue": "can't set attribute",
     "output_type": "error",
     "traceback": [
      "\u001b[1;31m---------------------------------------------------------------------------\u001b[0m",
      "\u001b[1;31mAttributeError\u001b[0m                            Traceback (most recent call last)",
      "\u001b[1;32m<ipython-input-2-fa0567b0497d>\u001b[0m in \u001b[0;36m<module>\u001b[1;34m\u001b[0m\n\u001b[1;32m----> 1\u001b[1;33m \u001b[0mrect\u001b[0m\u001b[1;33m.\u001b[0m\u001b[0marea\u001b[0m \u001b[1;33m=\u001b[0m \u001b[1;36m90\u001b[0m\u001b[1;33m\u001b[0m\u001b[1;33m\u001b[0m\u001b[0m\n\u001b[0m\u001b[0;32m      2\u001b[0m \u001b[0mprint\u001b[0m\u001b[1;33m(\u001b[0m\u001b[1;34m\"修改后的面积：\"\u001b[0m\u001b[1;33m,\u001b[0m\u001b[0mrect\u001b[0m\u001b[1;33m.\u001b[0m\u001b[0marea\u001b[0m\u001b[1;33m)\u001b[0m\u001b[1;33m\u001b[0m\u001b[1;33m\u001b[0m\u001b[0m\n",
      "\u001b[1;31mAttributeError\u001b[0m: can't set attribute"
     ]
    }
   ],
   "source": [
    "rect.area = 90\n",
    "print(\"修改后的面积：\",rect.area)"
   ]
  },
  {
   "cell_type": "markdown",
   "metadata": {},
   "source": [
    "### setter装饰器"
   ]
  },
  {
   "cell_type": "markdown",
   "metadata": {},
   "source": [
    "要想实现修改 area 属性的值，还需要为 area 属性添加 setter 方法，就需要用到 setter 装饰器，它的语法格式如下："
   ]
  },
  {
   "cell_type": "code",
   "execution_count": null,
   "metadata": {},
   "outputs": [],
   "source": [
    "@方法名.setter\n",
    "def 方法名(self, value):\n",
    "    代码块"
   ]
  },
  {
   "cell_type": "markdown",
   "metadata": {},
   "source": [
    "例如，为 Rect 类中的 area 方法添加 setter 方法，代码如下："
   ]
  },
  {
   "cell_type": "code",
   "execution_count": 15,
   "metadata": {},
   "outputs": [],
   "source": [
    "class Rect:\n",
    "    def __init__(self, area):\n",
    "        self.__area = area\n",
    "        \n",
    "    @property\n",
    "    def area(self):\n",
    "        return self.__area\n",
    "    \n",
    "    @area.setter\n",
    "    def area(self, value):\n",
    "        self.__area = value"
   ]
  },
  {
   "cell_type": "code",
   "execution_count": 16,
   "metadata": {},
   "outputs": [
    {
     "name": "stdout",
     "output_type": "stream",
     "text": [
      "修改后的面积： 90\n"
     ]
    }
   ],
   "source": [
    "rect = Rect(30)\n",
    "rect.area = 90\n",
    "print(\"修改后的面积：\",rect.area)"
   ]
  },
  {
   "cell_type": "markdown",
   "metadata": {},
   "source": [
    "这样，area 属性就有了 getter 和 setter 方法，该属性就变成了具有读写功能的属性。"
   ]
  },
  {
   "cell_type": "markdown",
   "metadata": {},
   "source": [
    "### deleter装饰器"
   ]
  },
  {
   "cell_type": "markdown",
   "metadata": {},
   "source": [
    "除此之外，还可以使用 deleter 装饰器来删除指定属性，其语法格式为："
   ]
  },
  {
   "cell_type": "code",
   "execution_count": null,
   "metadata": {},
   "outputs": [],
   "source": [
    "@方法名.deleter\n",
    "def 方法名(self):\n",
    "    代码块"
   ]
  },
  {
   "cell_type": "markdown",
   "metadata": {},
   "source": [
    "例如，在 Rect 类中，给 area() 方法添加 deleter 方法，实现代码如下："
   ]
  },
  {
   "cell_type": "code",
   "execution_count": 17,
   "metadata": {},
   "outputs": [],
   "source": [
    "class Rect:\n",
    "    def __init__(self, area):\n",
    "        self.__area = area\n",
    "        \n",
    "    @property\n",
    "    def area(self):\n",
    "        return self.__area\n",
    "    \n",
    "    @area.setter\n",
    "    def area(self, value):\n",
    "        self.__area = value\n",
    "        \n",
    "    @area.deleter\n",
    "    def area(self):\n",
    "        self.__area = 0"
   ]
  },
  {
   "cell_type": "markdown",
   "metadata": {},
   "source": [
    "运行如下代码"
   ]
  },
  {
   "cell_type": "code",
   "execution_count": 20,
   "metadata": {},
   "outputs": [
    {
     "name": "stdout",
     "output_type": "stream",
     "text": [
      "矩形的面积是： 80\n",
      "修改后的面积： 30\n",
      "删除后的area值为： 0\n"
     ]
    }
   ],
   "source": [
    "rect = Rect(80)\n",
    "print(\"矩形的面积是：\", rect.area)\n",
    "rect.area = 30\n",
    "print(\"修改后的面积：\",rect.area)\n",
    "del rect.area\n",
    "print(\"删除后的area值为：\",rect.area)"
   ]
  }
 ],
 "metadata": {
  "kernelspec": {
   "display_name": "Python 3",
   "language": "python",
   "name": "python3"
  },
  "language_info": {
   "codemirror_mode": {
    "name": "ipython",
    "version": 3
   },
   "file_extension": ".py",
   "mimetype": "text/x-python",
   "name": "python",
   "nbconvert_exporter": "python",
   "pygments_lexer": "ipython3",
   "version": "3.7.3"
  }
 },
 "nbformat": 4,
 "nbformat_minor": 2
}
